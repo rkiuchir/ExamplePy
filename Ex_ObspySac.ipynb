{
 "cells": [
  {
   "cell_type": "markdown",
   "metadata": {},
   "source": [
    "# Example of Obspy Read sac file"
   ]
  },
  {
   "cell_type": "markdown",
   "metadata": {},
   "source": [
    "### <font color='red'>Read the SAC data file\n",
    "</font> "
   ]
  },
  {
   "cell_type": "code",
   "execution_count": 2,
   "metadata": {},
   "outputs": [
    {
     "name": "stdout",
     "output_type": "stream",
     "text": [
      "1 Trace(s) in Stream:\n",
      "SG.LNY03..VBE | 2009-05-19T18:17:00.000000Z - 2009-05-19T18:33:39.990000Z | 100.0 Hz, 100000 samples\n"
     ]
    }
   ],
   "source": [
    "from obspy.core import read\n",
    "\n",
    "#For reading the file in external storage\n",
    "st = read('data/LNY03_EW.acc')\n",
    "\n",
    "#Output for general information\n",
    "print(st)"
   ]
  },
  {
   "cell_type": "markdown",
   "metadata": {},
   "source": [
    "#### More detail information"
   ]
  },
  {
   "cell_type": "code",
   "execution_count": 3,
   "metadata": {},
   "outputs": [
    {
     "name": "stdout",
     "output_type": "stream",
     "text": [
      "         network: SG\n",
      "         station: LNY03\n",
      "        location: \n",
      "         channel: VBE\n",
      "       starttime: 2009-05-19T18:17:00.000000Z\n",
      "         endtime: 2009-05-19T18:33:39.990000Z\n",
      "   sampling_rate: 100.0\n",
      "           delta: 0.01\n",
      "            npts: 100000\n",
      "           calib: 1.0\n",
      "         _format: SAC\n",
      "             sac: AttribDict({'delta': 0.01, 'depmin': -0.12027301, 'depmax': 0.110204965, 'b': 0.0, 'e': 999.99, 'o': 180.0, 'a': 181.84122, 'internal0': 2.0, 'f': 193.78113, 'stla': 25.3799, 'stlo': 37.8543, 'stel': 500.0, 'stdp': 0.0, 'evla': 25.282, 'evlo': 37.767, 'evdp': 9.62, 'mag': 4.29, 'dist': 13.9597645, 'az': 39.00464, 'baz': 219.04178, 'gcarc': 0.12547848, 'depmen': -1.4338675e-11, 'cmpaz': 90.0, 'cmpinc': 90.0, 'nzyear': 2009, 'nzjday': 139, 'nzhour': 18, 'nzmin': 17, 'nzsec': 0, 'nzmsec': 0, 'nvhdr': 6, 'norid': 0, 'nevid': 0, 'npts': 100000, 'iftype': 1, 'idep': 8, 'leven': 1, 'lpspol': 0, 'lcalda': 1, 'unused23': 0, 'kstnm': 'LNY03   ', 'khole': '        ', 'ka': '        ', 'kcmpnm': 'VBE     ', 'knetwk': 'SG      ', 'kevnm': '        '})\n"
     ]
    }
   ],
   "source": [
    "print(st[0].stats)"
   ]
  },
  {
   "cell_type": "markdown",
   "metadata": {},
   "source": [
    "#### Extract the event date and station name"
   ]
  },
  {
   "cell_type": "code",
   "execution_count": 4,
   "metadata": {},
   "outputs": [
    {
     "name": "stdout",
     "output_type": "stream",
     "text": [
      "2009-05-19T18:17:00.000000Z\n",
      "2009-05-19T18:17:00 LNY03\n"
     ]
    }
   ],
   "source": [
    "print(st[0].stats.starttime)\n",
    "cha = str(st[0].stats.starttime)\n",
    "sl = cha[0:19]\n",
    "station = st[0].stats.station\n",
    "print(sl,station)"
   ]
  },
  {
   "cell_type": "markdown",
   "metadata": {},
   "source": [
    "#### Pick up the header values"
   ]
  },
  {
   "cell_type": "code",
   "execution_count": 5,
   "metadata": {},
   "outputs": [
    {
     "name": "stdout",
     "output_type": "stream",
     "text": [
      "180.0\n",
      "13.9597645\n"
     ]
    }
   ],
   "source": [
    "print(st[0].stats.sac.o)\n",
    "print(st[0].stats.sac.dist)\n",
    "a = st[0].stats.sac.dist"
   ]
  },
  {
   "cell_type": "markdown",
   "metadata": {},
   "source": [
    "#### The waveform data is stored in the data attribute"
   ]
  },
  {
   "cell_type": "code",
   "execution_count": 6,
   "metadata": {},
   "outputs": [
    {
     "name": "stdout",
     "output_type": "stream",
     "text": [
      "[ 5.1650759e-06 -1.5836858e-05 -3.4473080e-06 ... -9.4521982e-07\n",
      "  1.2510756e-06 -2.1727444e-06]\n"
     ]
    }
   ],
   "source": [
    "y = st[0].data\n",
    "print(y)"
   ]
  },
  {
   "cell_type": "markdown",
   "metadata": {},
   "source": [
    "#### Creating the time array"
   ]
  },
  {
   "cell_type": "code",
   "execution_count": 7,
   "metadata": {},
   "outputs": [
    {
     "name": "stdout",
     "output_type": "stream",
     "text": [
      "[0.00000000e+00 1.00000998e-02 2.00001996e-02 ... 9.99979977e+02\n",
      " 9.99989978e+02 9.99999978e+02]\n"
     ]
    }
   ],
   "source": [
    "import numpy as np\n",
    "\n",
    "dt = st[0].stats.sac.delta\n",
    "Num = st[0].stats.npts\n",
    "x = np.linspace(0,Num*dt,Num)\n",
    "print(x)"
   ]
  },
  {
   "cell_type": "markdown",
   "metadata": {},
   "source": [
    "#### Drawing waveform"
   ]
  },
  {
   "cell_type": "code",
   "execution_count": 8,
   "metadata": {},
   "outputs": [
    {
     "data": {
      "image/png": "[encoded data removed]",
      "text/plain": [
       "<matplotlib.figure.Figure at 0x116dee358>"
      ]
     },
     "metadata": {},
     "output_type": "display_data"
    }
   ],
   "source": [
    "import matplotlib.pyplot as plt\n",
    "plt.plot(x,y, 'r-')\n",
    "plt.show()"
   ]
  },
  {
   "cell_type": "markdown",
   "metadata": {},
   "source": [
    "#### Cutting the time window from a to f\n",
    "https://docs.obspy.org/packages/autogen/obspy.core.trace.Trace.trim.html\n",
    "#### <font color='red'>Trace module is included in trace!\n",
    "</font> \n"
   ]
  },
  {
   "cell_type": "code",
   "execution_count": 9,
   "metadata": {},
   "outputs": [
    {
     "data": {
      "image/png": "[encoded data removed]",
      "text/plain": [
       "<matplotlib.figure.Figure at 0x1174feef0>"
      ]
     },
     "metadata": {},
     "output_type": "display_data"
    }
   ],
   "source": [
    "from obspy.core.trace import Trace\n",
    "\n",
    "#Retrieving start and end time\n",
    "beg = st[0].stats.sac.a\n",
    "end = st[0].stats.sac.f\n",
    "\n",
    "#for time array\n",
    "tr_x = Trace(data=x)\n",
    "tr_x.stats.delta = dt\n",
    "t = tr_x.stats.starttime\n",
    "tr_x.trim(t + beg, t + end)  \n",
    "tr_x.data\n",
    "\n",
    "#for amplitude array\n",
    "tr_y = Trace(data=y)\n",
    "tr_y.stats.delta = dt\n",
    "t = tr_y.stats.starttime\n",
    "tr_y.trim(t + beg, t + end)  \n",
    "tr_y.data\n",
    "\n",
    "#Plotting the result\n",
    "plt.plot(tr_x.data,tr_y.data, 'r-')\n",
    "plt.show()"
   ]
  },
  {
   "cell_type": "code",
   "execution_count": null,
   "metadata": {
    "collapsed": true
   },
   "outputs": [],
   "source": []
  }
 ],
 "metadata": {
  "kernelspec": {
   "display_name": "Python 3",
   "language": "python",
   "name": "python3"
  },
  "language_info": {
   "codemirror_mode": {
    "name": "ipython",
    "version": 3
   },
   "file_extension": ".py",
   "mimetype": "text/x-python",
   "name": "python",
   "nbconvert_exporter": "python",
   "pygments_lexer": "ipython3",
   "version": "3.6.1"
  },
  "varInspector": {
   "cols": {
    "lenName": 16,
    "lenType": 16,
    "lenVar": 40
   },
   "kernels_config": {
    "python": {
     "delete_cmd_postfix": "",
     "delete_cmd_prefix": "del ",
     "library": "var_list.py",
     "varRefreshCmd": "print(var_dic_list())"
    },
    "r": {
     "delete_cmd_postfix": ") ",
     "delete_cmd_prefix": "rm(",
     "library": "var_list.r",
     "varRefreshCmd": "cat(var_dic_list()) "
    }
   },
   "types_to_exclude": [
    "module",
    "function",
    "builtin_function_or_method",
    "instance",
    "_Feature"
   ],
   "window_display": false
  }
 },
 "nbformat": 4,
 "nbformat_minor": 2
}
